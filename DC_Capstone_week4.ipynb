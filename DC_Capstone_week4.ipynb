{
 "cells": [
  {
   "cell_type": "markdown",
   "metadata": {},
   "source": [
    "# IBM Data Science Professional Specialization - Coursera"
   ]
  },
  {
   "cell_type": "markdown",
   "metadata": {},
   "source": [
    "This notebook is for the capstone project for the 9-courses specialization in [Data Science of IBM on Coursera](https://www.coursera.org/specializations/ibm-data-science-professional-certificate). Data Science Specialization\n",
    "This project will try to solve a problem or question by applying data science methods on the location data gotten from FourSquare API."
   ]
  },
  {
   "cell_type": "markdown",
   "metadata": {},
   "source": [
    "## I. Description of the Project:"
   ]
  },
  {
   "cell_type": "markdown",
   "metadata": {},
   "source": [
    "### 1. Introduction:"
   ]
  },
  {
   "cell_type": "markdown",
   "metadata": {},
   "source": [
    "Founded in 1790, the nation's capital has been a dynamic city with plenty of highs and lows to match its place in American history.\n",
    "Founded on July 16, 1790, **Washington, DC** is unique among American cities because it was established by the Constitution of the United States to serve as the nation’s capital. You can read the actual line at the National Archives. From its beginning, it has been embroiled in political maneuvering, sectional conflicts and issues of race, national identity, compromise and, of course, power.\n",
    "\n",
    "Like many decisions in American history, the location of the new city was to be a compromise: Alexander Hamilton and northern states wanted the new federal government to assume Revolutionary War debts, and Thomas Jefferson and southern states who wanted the capital placed in a location friendly to slave-holding agricultural interests.\n",
    "\n",
    "It remains a vibrant and culturally diverse city today. The city is rich with international cultures, African American heritage and culture and it’s also one of America’s most gay-friendly cities. In fact, DC recognized same-sex marriage in 2010, before the Supreme Court, nearby, ruled that it was a right in 2015.\n",
    "\n",
    "After more than 200 years as the nation’s capital, Washington has developed as a complex and layered city, with a distinctive character: both a town for locals, an international center of power and an amazing place to visit.\n",
    "\n",
    "Today, you can have the best of both worlds by delving into the nation’s past with a visit on the National Mall and museums or adventuring into very modern, exciting neighborhoods.No wonder the real estate market in Austin is in high Demand due to many reasons like job market and goverment agencies and plenty of educational institution. It's where a House in North capitol street is listed for sale around [\\$1.75 million](https://www.zillow.com/homes/for_sale/Washington-DC/pmf,pf_pt/condo_type/88809792_zpid/41568_rid/globalrelevanceex_sort/38.910387,-76.993754,38.892853,-77.023065_rect/14_zm/) (\\\\$619/ft2).\n",
    "\n",
    "But that is just an outlier example. A quick search can show us the real estate price can vary by a large margin from neighborhoods to neighborhoods. For example, a 1-bedrooms condo in Adam morgan, can cost [\\$400K](https://www.zillow.com/homes/for_sale/Washington-DC/pmf,pf_pt/condo_type/462910_zpid/41568_rid/globalrelevanceex_sort/38.929268,-77.027078,38.911739,-77.056389_rect/14_zm/); while a 1-bedrooms in benning, it's only [\\\\$100 thousands](https://www.zillow.com/homes/for_sale/Washington-DC/pmf,pf_pt/condo_type/2085385104_zpid/41568_rid/globalrelevanceex_sort/38.91047,-76.913739,38.875398,-76.972361_rect/13_zm/).\n",
    "\n",
    "So what aspects of a neighborhood that can effect the price of real estates to such extend? One hypothesis is that the surrounding venues can be a decision factor.\n",
    "Surely anyone, who has attempted to find an accommodation for rent or buy, has seen advertisements such as: This condo is located near the subway station, malls, supermarkets, Public Transportation and dinners, etc. And it's likely that the price will be higher than others with locations not as \"convenient\".\n",
    "\n",
    "Can the venues surrounding an accommodation effect its price? And what kind of venues can effect the most? How much of the price affected by location of a Apt or House?\n"
   ]
  },
  {
   "cell_type": "markdown",
   "metadata": {},
   "source": [
    "### 2. The question to solve:"
   ]
  },
  {
   "cell_type": "markdown",
   "metadata": {},
   "source": [
    "This project will try to explore the neighborhoods of **Washington, DC** to see:\n",
    "\n",
    "* if the surrounding venues can effect the price of real estates?\n",
    "* what kind of surrounding venues, and to what extend, can effect the price?\n",
    "* if we can use the surrounding venue to estimate the value of an accommodation over the average price of one area? And to what degree of confidence?\n",
    "\n",
    "The result can be useful for home buyers, who can roughly estimate the value of a target house over the average.\n",
    "Or to planners, who can decide which venues to place around their product, so that the price is maximized.\n",
    "Or to just anyone that curios about Austin and real estate."
   ]
  },
  {
   "cell_type": "markdown",
   "metadata": {},
   "source": [
    "## II. Description of the data:\n",
    "The main data used for this project will be from two sources:\n",
    "\n",
    "* The average Zillow home price index by neighborhoods in Washington, DC. [Zillow](https://www.zillow.com/washington-dc/home-values/)\n",
    "* The venues in each neighborhood. (FourSquare API)\n",
    "\n",
    "Other supporting data:\n",
    "\n",
    "* Coordinates (Geocoder Python)\n",
    "* GeoJson (http://opendata.dc.gov/) and Github repository of DC maps (is available free at: https://github.com/benbalter/dc-maps)\n"
   ]
  },
  {
   "cell_type": "markdown",
   "metadata": {},
   "source": [
    "### 1. Data collection process:\n",
    "\n",
    "* The average price will be scrapped from the Zillow website.\n",
    "* For each neighborhood, use Geojson file of neighborhood to get its coordinate.\n",
    "* For each neighborhood's coordinate, call FourSquare API to get the surrounding venues.\n",
    "* Count the occurrences of each venue type and attach that information to each neighborhood.\n",
    "\n",
    "The output of the data collecting process will be a 2 dimensions dataframe:\n",
    "\n",
    "* Each row represents a neighborhood.\n",
    "* Each column will be the count of one type of venue in that neighborhood.\n",
    "* The last column will be the Zillow home value index (for all type of house) of that neighborhood."
   ]
  },
  {
   "cell_type": "markdown",
   "metadata": {},
   "source": [
    "### 2. Using data to solve the question:\n",
    "\n",
    "First, correlation between price and surrounding venues will be checked.\n",
    "\n",
    "Second, if correlated, machine learning techniques (PCA, Regression, PCR) will be used to analyze the data. The output will be a list of venues types that effect the most on price, along with their weight on the result.\n",
    "\n"
   ]
  }
 ],
 "metadata": {
  "kernelspec": {
   "display_name": "Python 3",
   "language": "python",
   "name": "python3"
  },
  "language_info": {
   "codemirror_mode": {
    "name": "ipython",
    "version": 3
   },
   "file_extension": ".py",
   "mimetype": "text/x-python",
   "name": "python",
   "nbconvert_exporter": "python",
   "pygments_lexer": "ipython3",
   "version": "3.6.8"
  }
 },
 "nbformat": 4,
 "nbformat_minor": 2
}
